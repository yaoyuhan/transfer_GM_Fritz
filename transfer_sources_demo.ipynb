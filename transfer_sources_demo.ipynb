{
 "cells": [
  {
   "cell_type": "markdown",
   "metadata": {},
   "source": [
    "## Bulk Transfer\n",
    "Transfer classified TDE and AGN from GROWTH Marshal to Fritz"
   ]
  },
  {
   "cell_type": "code",
   "execution_count": 2,
   "metadata": {},
   "outputs": [],
   "source": [
    "import os\n",
    "import json\n",
    "import requests\n",
    "import pickle\n",
    "import numpy as np\n",
    "import pandas as pd\n",
    "from copy import deepcopy\n",
    "from astropy.table import Table\n",
    "from astropy.time import Time\n",
    "import astropy.io.ascii as asci\n",
    "from astropy import units as u\n",
    "from astropy.coordinates import SkyCoord"
   ]
  },
  {
   "cell_type": "code",
   "execution_count": 3,
   "metadata": {},
   "outputs": [],
   "source": [
    "import matplotlib\n",
    "import matplotlib.pyplot as plt\n",
    "fs = 10\n",
    "matplotlib.rcParams['font.size']=fs\n",
    "%matplotlib notebook"
   ]
  },
  {
   "cell_type": "markdown",
   "metadata": {},
   "source": [
    "### Step 1. Get classifications from Growth Marshal"
   ]
  },
  {
   "cell_type": "code",
   "execution_count": 4,
   "metadata": {},
   "outputs": [],
   "source": [
    "f=open(\"json_dumps/ZTFBH_Nuclear_2020-11-25.json\")\n",
    "data = json.load(f)\n",
    "f.close()"
   ]
  },
  {
   "cell_type": "code",
   "execution_count": 6,
   "metadata": {},
   "outputs": [
    {
     "name": "stdout",
     "output_type": "stream",
     "text": [
      "10296\n"
     ]
    }
   ],
   "source": [
    "print (len(data))"
   ]
  },
  {
   "cell_type": "code",
   "execution_count": 167,
   "metadata": {},
   "outputs": [
    {
     "name": "stdout",
     "output_type": "stream",
     "text": [
      "ZTF18abrzbnb\n",
      "AGN\n"
     ]
    }
   ],
   "source": [
    "print (data[123][\"name\"])\n",
    "print (data[123][\"classification\"])"
   ]
  },
  {
   "cell_type": "markdown",
   "metadata": {},
   "source": [
    "### Step 2. Save Source to Fritz"
   ]
  },
  {
   "cell_type": "code",
   "execution_count": 153,
   "metadata": {},
   "outputs": [],
   "source": [
    "global GETTOKEN, BASEURL"
   ]
  },
  {
   "cell_type": "code",
   "execution_count": 142,
   "metadata": {},
   "outputs": [],
   "source": [
    "f = open(\"files/fritz_token_classify\") # the ACLS of this token needs to be 'Classify'\n",
    "GETTOKEN = f.readline().split(\"\\n\")[0]\n",
    "f.close()"
   ]
  },
  {
   "cell_type": "code",
   "execution_count": 182,
   "metadata": {},
   "outputs": [],
   "source": [
    "BASEURL = 'https://fritz.science/'\n",
    "\n",
    "def api(method, endpoint, data=None):\n",
    "    ''' \n",
    "    Info : Basic API query, takes input the method (eg. GET, POST, etc.), the endpoint (i.e. API url) \n",
    "               and additional data for filtering\n",
    "    Returns : response in json format\n",
    "    '''\n",
    "    headers = {'Authorization': f'token {GETTOKEN}'}\n",
    "    response = requests.request(method, endpoint, json=data, headers=headers)\n",
    "    #if(response.json()['status'] == 'success'):\n",
    "    #    pass\n",
    "    #else:\n",
    "    #    print('ERROR, Query failed!')\n",
    "    return response.json()\n",
    "\n",
    "\n",
    "def get_source_api(ztfname):\n",
    "    ''' \n",
    "    Info : Query a single source, takes input ZTF name\n",
    "    Returns : all basic data of that source (excludes photometry and spectra, \n",
    "                includes redshift, classification, comments, etc.)\n",
    "    '''\n",
    "    url = BASEURL+'api/sources/'+ztfname\n",
    "    response = api('GET',url)\n",
    "    return response['data']    \n",
    "\n",
    "def get_group_ids(groupnames=['Nuclear Transients']):\n",
    "    ''' \n",
    "    Info : Query group ids of groups\n",
    "    Returns : List of group ids \n",
    "    '''\n",
    "    url = BASEURL+'api/groups'\n",
    "    headers = {'Authorization': f'token {GETTOKEN}'}\n",
    "    groupnames = np.atleast_1d(groupnames)\n",
    "    grpids = []\n",
    "    for grpname in groupnames:\n",
    "        response = requests.request('GET',url,params={'name':grpname}, headers=headers).json()\n",
    "        grpids.append(response['data'][0]['id'])\n",
    "    return grpids\n",
    "\n",
    "\n",
    "def save_alert_to_group(ztfname, groupname):\n",
    "    ''' \n",
    "    Info : Save an alert to given group(s), takes the ZTF name and list of group names\n",
    "    Returns : response with status\n",
    "    '''\n",
    "    url = BASEURL+'api/alerts/ztf/'+ztfname\n",
    "    filt = {'group_ids':get_group_ids(groupname)}\n",
    "    headers = {'Authorization': f'token {GETTOKEN}'}\n",
    "    response = requests.request('POST', url, json=filt, headers=headers)\n",
    "    return response.json()\n",
    "\n",
    "\n",
    "def post_classification(ztfname, classification, probability=1.0):\n",
    "    '''\n",
    "    Info : Post a classification, takes input ZTF name, classification and taxonomy_id \n",
    "           (1 for sitewide, 2 for basic). Only classifications within that taxonomy are permitted.\n",
    "            Check Fritz API query to list all taxonomies in documentation\n",
    "    '''\n",
    "    url = BASEURL+'api/classification'\n",
    "    filt = {\"obj_id\":ztfname,\n",
    "            'classification':classification,\n",
    "            'taxonomy_id':1,\n",
    "            \"probability\":probability\n",
    "            #'group_ids':get_group_ids() #default to all of requesting user's groups.\n",
    "           }\n",
    "    print(filt)\n",
    "    response = api('POST',url,filt)\n",
    "    return response"
   ]
  },
  {
   "cell_type": "markdown",
   "metadata": {},
   "source": [
    "### taxonomy"
   ]
  },
  {
   "cell_type": "code",
   "execution_count": 127,
   "metadata": {},
   "outputs": [],
   "source": [
    "url = BASEURL+'api/taxonomy'\n",
    "response = api('GET',url)"
   ]
  },
  {
   "cell_type": "code",
   "execution_count": 129,
   "metadata": {},
   "outputs": [],
   "source": [
    "# response[\"data\"]"
   ]
  },
  {
   "cell_type": "markdown",
   "metadata": {},
   "source": [
    "### save source "
   ]
  },
  {
   "cell_type": "code",
   "execution_count": 147,
   "metadata": {},
   "outputs": [
    {
     "data": {
      "text/plain": [
       "[80]"
      ]
     },
     "execution_count": 147,
     "metadata": {},
     "output_type": "execute_result"
    }
   ],
   "source": [
    "get_group_ids(groupnames=['Nuclear Transients'])"
   ]
  },
  {
   "cell_type": "code",
   "execution_count": 171,
   "metadata": {},
   "outputs": [],
   "source": [
    "info1 = get_source_api(\"ZTF18absopva\")\n",
    "info2 = get_source_api(\"ZTF18abrzbnb\")"
   ]
  },
  {
   "cell_type": "code",
   "execution_count": 174,
   "metadata": {},
   "outputs": [
    {
     "data": {
      "text/plain": [
       "False"
      ]
     },
     "execution_count": 174,
     "metadata": {},
     "output_type": "execute_result"
    }
   ],
   "source": [
    "info1=={} # this means that a source had already been saved before"
   ]
  },
  {
   "cell_type": "code",
   "execution_count": 176,
   "metadata": {},
   "outputs": [
    {
     "data": {
      "text/plain": [
       "True"
      ]
     },
     "execution_count": 176,
     "metadata": {},
     "output_type": "execute_result"
    }
   ],
   "source": [
    "info2=={} # this means that s source had never been saved, in this case, we need to save it"
   ]
  },
  {
   "cell_type": "code",
   "execution_count": 177,
   "metadata": {},
   "outputs": [],
   "source": [
    "q = save_alert_to_group(\"ZTF18abrzbnb\",'Nuclear Transients')"
   ]
  },
  {
   "cell_type": "code",
   "execution_count": 178,
   "metadata": {},
   "outputs": [
    {
     "data": {
      "text/plain": [
       "{'status': 'success',\n",
       " 'data': {'id': 'ZTF18abrzbnb'},\n",
       " 'version': '0.9.dev0+git20201125.95d9e76+fritz.7d7a638'}"
      ]
     },
     "execution_count": 178,
     "metadata": {},
     "output_type": "execute_result"
    }
   ],
   "source": [
    "q"
   ]
  },
  {
   "cell_type": "markdown",
   "metadata": {},
   "source": [
    "### post classfication"
   ]
  },
  {
   "cell_type": "code",
   "execution_count": 179,
   "metadata": {},
   "outputs": [],
   "source": [
    "info1 = get_source_api(\"ZTF18absopva\")\n",
    "info2 = get_source_api(\"ZTF18abrzbnb\")"
   ]
  },
  {
   "cell_type": "code",
   "execution_count": 185,
   "metadata": {},
   "outputs": [
    {
     "data": {
      "text/plain": [
       "False"
      ]
     },
     "execution_count": 185,
     "metadata": {},
     "output_type": "execute_result"
    }
   ],
   "source": [
    "info1[\"classifications\"]==[]"
   ]
  },
  {
   "cell_type": "code",
   "execution_count": 186,
   "metadata": {},
   "outputs": [
    {
     "data": {
      "text/plain": [
       "True"
      ]
     },
     "execution_count": 186,
     "metadata": {},
     "output_type": "execute_result"
    }
   ],
   "source": [
    "info2[\"classifications\"]==[]"
   ]
  },
  {
   "cell_type": "code",
   "execution_count": 187,
   "metadata": {},
   "outputs": [
    {
     "name": "stdout",
     "output_type": "stream",
     "text": [
      "{'obj_id': 'ZTF18abrzbnb', 'classification': 'AGN', 'taxonomy_id': 1, 'probability': 1.0}\n"
     ]
    },
    {
     "data": {
      "text/plain": [
       "{'status': 'success',\n",
       " 'data': {'classification_id': 9066},\n",
       " 'version': '0.9.dev0+git20201125.95d9e76+fritz.7d7a638'}"
      ]
     },
     "execution_count": 187,
     "metadata": {},
     "output_type": "execute_result"
    }
   ],
   "source": [
    "post_classification(\"ZTF18abrzbnb\", \"AGN\")"
   ]
  },
  {
   "cell_type": "code",
   "execution_count": null,
   "metadata": {},
   "outputs": [],
   "source": []
  }
 ],
 "metadata": {
  "kernelspec": {
   "display_name": "Python 3",
   "language": "python",
   "name": "python3"
  },
  "language_info": {
   "codemirror_mode": {
    "name": "ipython",
    "version": 3
   },
   "file_extension": ".py",
   "mimetype": "text/x-python",
   "name": "python",
   "nbconvert_exporter": "python",
   "pygments_lexer": "ipython3",
   "version": "3.6.8"
  }
 },
 "nbformat": 4,
 "nbformat_minor": 2
}
